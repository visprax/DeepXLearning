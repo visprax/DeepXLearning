{
 "cells": [
  {
   "cell_type": "markdown",
   "id": "9036305d-f119-4f0c-87b2-cfe7effa87cc",
   "metadata": {},
   "source": [
    "#### Recurrent Neural Networks\n",
    "In the fully connected or convolutional networks, each observation of the data was treated independent, there was no notion of ordering of the data, but for example, in language modelling or time-series based data, there is a notion of order, the recurrent neural networks are designed to handle these *sequences* of data. Previously each observation was a one dimensional vector with certain number of features, however each observation of a sequence will have an extra dimension representing the sequence length **(?)**, thus the overall input to an RNN will be of dimension `[batch_size, sequence_length, num_features]`."
   ]
  },
  {
   "cell_type": "code",
   "execution_count": null,
   "id": "112dd79c-d672-43c8-8138-9b116ca3b667",
   "metadata": {},
   "outputs": [],
   "source": []
  }
 ],
 "metadata": {
  "kernelspec": {
   "display_name": "Python 3 (ipykernel)",
   "language": "python",
   "name": "python3"
  },
  "language_info": {
   "codemirror_mode": {
    "name": "ipython",
    "version": 3
   },
   "file_extension": ".py",
   "mimetype": "text/x-python",
   "name": "python",
   "nbconvert_exporter": "python",
   "pygments_lexer": "ipython3",
   "version": "3.10.10"
  }
 },
 "nbformat": 4,
 "nbformat_minor": 5
}
