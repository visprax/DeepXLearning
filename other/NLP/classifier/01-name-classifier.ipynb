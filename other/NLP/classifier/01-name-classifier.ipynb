{
 "cells": [
  {
   "cell_type": "code",
   "execution_count": 69,
   "id": "ae170604-665a-442c-8bf2-299de54bd5ee",
   "metadata": {
    "tags": []
   },
   "outputs": [],
   "source": [
    "from pathlib import Path\n",
    "\n",
    "all_names = {}\n",
    "\n",
    "for lang_file in Path(\"names/langs/\").glob(\"*.txt\"):\n",
    "    lang = lang_file.stem\n",
    "    with open(lang_file, \"r\", encoding=\"utf-8\") as f:\n",
    "        lang_names = f.read().splitlines()\n",
    "        all_names[lang] = lang_names"
   ]
  },
  {
   "cell_type": "code",
   "execution_count": 70,
   "id": "dbeb83bd-2dd0-4dcb-a0a7-62fff7e95f9e",
   "metadata": {
    "tags": []
   },
   "outputs": [],
   "source": [
    "# trick to remove all accent chars from utf-8 encoded, and converting to ascii encoding\n",
    "import string\n",
    "import unicodedata\n",
    "\n",
    "all_letters = string.ascii_letters + \" .,;'\"\n",
    "\n",
    "def unicode_to_ascii(name):\n",
    "    chars = [c for c in unicodedata.normalize(\"NFD\", name) if unicodedata.category(c) != \"Mn\" and c in all_letters]\n",
    "    name  = ''.join(chars)\n",
    "    return name"
   ]
  },
  {
   "cell_type": "code",
   "execution_count": 71,
   "id": "8fe081b7-8978-436a-a4c8-295c56d15eab",
   "metadata": {
    "tags": []
   },
   "outputs": [],
   "source": [
    "all_names = {lang: [unicode_to_ascii(name) for name in lang_names] for lang, lang_names in all_names.items()}"
   ]
  },
  {
   "cell_type": "code",
   "execution_count": 77,
   "id": "dc9729dc-6dbe-44c5-81ed-3ad782790ad1",
   "metadata": {
    "tags": []
   },
   "outputs": [
    {
     "name": "stdout",
     "output_type": "stream",
     "text": [
      "['Abbas', 'Abbey', 'Abbott', 'Abdi', 'Abel']\n"
     ]
    }
   ],
   "source": [
    "print(all_names[\"English\"][:5])"
   ]
  },
  {
   "cell_type": "code",
   "execution_count": 73,
   "id": "608a9d0f-5e4e-4aa6-b1f6-8e5d7654d2b1",
   "metadata": {
    "tags": []
   },
   "outputs": [
    {
     "name": "stdout",
     "output_type": "stream",
     "text": [
      "vocabulary size: 55\n"
     ]
    }
   ],
   "source": [
    "vocab = set()\n",
    "for lang, lang_names in all_names.items():\n",
    "    for name in lang_names:\n",
    "        for c in name:\n",
    "            vocab.add(c)\n",
    "vocab_size = len(vocab)\n",
    "print(f\"vocabulary size: {vocab_size}\")"
   ]
  },
  {
   "cell_type": "code",
   "execution_count": 85,
   "id": "645d8ae1-5973-4870-ac18-aae40cd79279",
   "metadata": {
    "tags": []
   },
   "outputs": [],
   "source": [
    "ctoi = {c: i for i, c in enumerate(sorted(vocab))}\n",
    "itoc = {i: c for c, i in ctoi.items()}"
   ]
  },
  {
   "cell_type": "code",
   "execution_count": 88,
   "id": "edeb9b13-3307-4346-a327-80f97df34977",
   "metadata": {
    "tags": []
   },
   "outputs": [],
   "source": [
    "import torch"
   ]
  },
  {
   "cell_type": "code",
   "execution_count": 95,
   "id": "99c1ac8b-3de8-41f1-bf45-a267e036cdd1",
   "metadata": {
    "tags": []
   },
   "outputs": [],
   "source": [
    "# one-hot encode the names, every name is represented by a 2d tensor,\n",
    "# each row is the one-hot encoded character, but as pytorch expects batches,\n",
    "# every name is of dimension (len_name, 1, vocab_size), with batch dimension of 1\n",
    "def name1hot(name):\n",
    "    name_tensor = torch.zeros(len(name), 1, vocab_size) # (len_name, 1, vocab_size)\n",
    "    for i, c in enumerate(name):\n",
    "        idx = ctoi[c]\n",
    "        name_tensor[i][0][idx] = 1.0\n",
    "    return name_tensor"
   ]
  },
  {
   "cell_type": "code",
   "execution_count": 97,
   "id": "d76ac56f-6563-4c8e-b37b-c4dbfc8ecc62",
   "metadata": {
    "tags": []
   },
   "outputs": [
    {
     "data": {
      "text/plain": [
       "torch.Size([5, 1, 55])"
      ]
     },
     "execution_count": 97,
     "metadata": {},
     "output_type": "execute_result"
    }
   ],
   "source": [
    "name1hot(\"Jones\").shape"
   ]
  },
  {
   "cell_type": "code",
   "execution_count": null,
   "id": "515e8fa3-ab4d-4dda-b3cf-dfec91f45802",
   "metadata": {},
   "outputs": [],
   "source": []
  }
 ],
 "metadata": {
  "kernelspec": {
   "display_name": "Python 3 (ipykernel)",
   "language": "python",
   "name": "python3"
  },
  "language_info": {
   "codemirror_mode": {
    "name": "ipython",
    "version": 3
   },
   "file_extension": ".py",
   "mimetype": "text/x-python",
   "name": "python",
   "nbconvert_exporter": "python",
   "pygments_lexer": "ipython3",
   "version": "3.10.10"
  }
 },
 "nbformat": 4,
 "nbformat_minor": 5
}
