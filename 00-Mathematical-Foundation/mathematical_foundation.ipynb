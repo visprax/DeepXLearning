{
 "cells": [
  {
   "cell_type": "code",
   "execution_count": 2,
   "id": "a32e6be6-4e8a-404f-85b6-478c3b1b881a",
   "metadata": {},
   "outputs": [],
   "source": [
    "# Calculates the derivatives of a function at the points of a numpy array.\n",
    "def derivative(func, inarr, delta = 0.001):\n",
    "    numer = (func(inarr + delta) - func(inarr - delta))\n",
    "    denom = 2 * delta\n",
    "    \n",
    "    return numer / denom"
   ]
  },
  {
   "cell_type": "markdown",
   "id": "420933b6-261b-44e5-a125-5d187a872e36",
   "metadata": {},
   "source": [
    "### Composite Functions\n",
    "\n",
    "Given two function $f$ and $g$, the *composite function* $(f \\circ g)$ is defined by:\n",
    "\n",
    "$$ (f \\circ g)(x) = f(g(x)) $$\n",
    "\n",
    "If $f$ and $g$ have derivatives, then the composite function $h(x) = f(g(x))$ has a derivative given by the **chain rule**:\n",
    "\n",
    "$$h^\\prime(x) = g^\\prime(x)f^\\prime(g(x))$$"
   ]
  },
  {
   "cell_type": "code",
   "execution_count": null,
   "id": "6aacc1e2-ed0b-4456-8a1a-2d16873ced67",
   "metadata": {},
   "outputs": [],
   "source": []
  }
 ],
 "metadata": {
  "kernelspec": {
   "display_name": "Python 3 (ipykernel)",
   "language": "python",
   "name": "python3"
  },
  "language_info": {
   "codemirror_mode": {
    "name": "ipython",
    "version": 3
   },
   "file_extension": ".py",
   "mimetype": "text/x-python",
   "name": "python",
   "nbconvert_exporter": "python",
   "pygments_lexer": "ipython3",
   "version": "3.10.5"
  }
 },
 "nbformat": 4,
 "nbformat_minor": 5
}
