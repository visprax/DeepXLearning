{
 "cells": [
  {
   "cell_type": "markdown",
   "id": "9f3949d4-6119-44c8-a8fd-972509eac2c8",
   "metadata": {},
   "source": [
    "### Derivative\n",
    "\n",
    "A function of a real variable $f(x)$ is differentiable at a point $a$ of its domain, if this limit exists, then:\n",
    "\n",
    "$$\\frac{df}{dx}(a) = \\lim_{h \\rightarrow 0}\\frac{f(a + h) - f(a)}{h}$$"
   ]
  },
  {
   "cell_type": "code",
   "execution_count": 3,
   "id": "a32e6be6-4e8a-404f-85b6-478c3b1b881a",
   "metadata": {},
   "outputs": [],
   "source": [
    "# Calculates the derivatives of a function at the points of a numpy array.\n",
    "def derivative(func, arr, h = 0.001):\n",
    "    numer = (func(arr + h) - func(arr - h))\n",
    "    denom = 2 * h\n",
    "    \n",
    "    return numer / denom"
   ]
  },
  {
   "cell_type": "markdown",
   "id": "ed8081f9-9f92-48cd-b37b-9fba9c6ffbb1",
   "metadata": {},
   "source": [
    "### Chain Rule\n",
    "\n",
    "If $y$ is a function of $u$ (i.e. $y := y(u)$), and $u$ is a function of $x$ (i.e. $u := u(x)$), then:\n",
    "\n",
    "$$\\frac{dy}{dx} = \\frac{dy}{du}\\frac{du}{dx}$$\n",
    "\n",
    "provided that both $\\frac{dy}{du}$ and $\\frac{du}{dx}$ exists."
   ]
  },
  {
   "cell_type": "markdown",
   "id": "420933b6-261b-44e5-a125-5d187a872e36",
   "metadata": {},
   "source": [
    "### Composite Functions\n",
    "\n",
    "Given two function $f$ and $g$, the *composite function* $(f \\circ g)$ is defined by:\n",
    "\n",
    "$$ (f \\circ g)(x) = f(g(x)) $$\n",
    "\n",
    "If $f$ and $g$ have derivatives, then the composite function $h(x) = f(g(x))$ has a derivative given by the chain rule:\n",
    "\n",
    "$$\\frac{dh(x)}{dx} = \\frac{df(g(x))}{dg(x)}\\frac{dg(x)}{dx} ,$$\n",
    "$$h^\\prime(x) = g^\\prime(x)f^\\prime(g(x))$$"
   ]
  },
  {
   "cell_type": "code",
   "execution_count": null,
   "id": "6aacc1e2-ed0b-4456-8a1a-2d16873ced67",
   "metadata": {},
   "outputs": [],
   "source": []
  }
 ],
 "metadata": {
  "kernelspec": {
   "display_name": "Python 3 (ipykernel)",
   "language": "python",
   "name": "python3"
  },
  "language_info": {
   "codemirror_mode": {
    "name": "ipython",
    "version": 3
   },
   "file_extension": ".py",
   "mimetype": "text/x-python",
   "name": "python",
   "nbconvert_exporter": "python",
   "pygments_lexer": "ipython3",
   "version": "3.10.5"
  }
 },
 "nbformat": 4,
 "nbformat_minor": 5
}
