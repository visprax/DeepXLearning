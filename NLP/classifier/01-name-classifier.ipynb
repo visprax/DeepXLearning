{
 "cells": [
  {
   "cell_type": "code",
   "execution_count": 48,
   "id": "ae170604-665a-442c-8bf2-299de54bd5ee",
   "metadata": {
    "tags": []
   },
   "outputs": [],
   "source": [
    "from pathlib import Path\n",
    "\n",
    "all_names = {}\n",
    "\n",
    "for lang_file in Path(\"names/langs/\").glob(\"*.txt\"):\n",
    "    lang = lang_file.stem\n",
    "    with open(lang_file, \"r\", encoding=\"utf-8\") as f:\n",
    "        lang_names = f.read().split(\"\\n\")\n",
    "        all_names[lang] = lang_names"
   ]
  },
  {
   "cell_type": "code",
   "execution_count": 47,
   "id": "dbeb83bd-2dd0-4dcb-a0a7-62fff7e95f9e",
   "metadata": {
    "tags": []
   },
   "outputs": [],
   "source": [
    "# trick to remove all accent chars from utf-8 encoded, and converting to ascii encoding\n",
    "import string\n",
    "import unicodedata\n",
    "\n",
    "all_letters = string.ascii_letters + \" .,;'\"\n",
    "\n",
    "def unicode_to_ascii(name):\n",
    "    chars = [c for c in unicodedata.normalize(\"NFD\", name) if unicodedata.category(c) != \"Mn\" and c in all_letters]\n",
    "    name  = ''.join(chars)\n",
    "    return name"
   ]
  },
  {
   "cell_type": "code",
   "execution_count": 60,
   "id": "8fe081b7-8978-436a-a4c8-295c56d15eab",
   "metadata": {
    "tags": []
   },
   "outputs": [],
   "source": [
    "all_names = {lang: [unicode_to_ascii(name) for name in lang_names] for lang, lang_names in all_names.items()}"
   ]
  },
  {
   "cell_type": "code",
   "execution_count": 59,
   "id": "dc9729dc-6dbe-44c5-81ed-3ad782790ad1",
   "metadata": {
    "tags": []
   },
   "outputs": [
    {
     "data": {
      "text/plain": [
       "3669"
      ]
     },
     "execution_count": 59,
     "metadata": {},
     "output_type": "execute_result"
    }
   ],
   "source": []
  },
  {
   "cell_type": "code",
   "execution_count": null,
   "id": "608a9d0f-5e4e-4aa6-b1f6-8e5d7654d2b1",
   "metadata": {},
   "outputs": [],
   "source": []
  }
 ],
 "metadata": {
  "kernelspec": {
   "display_name": "Python 3 (ipykernel)",
   "language": "python",
   "name": "python3"
  },
  "language_info": {
   "codemirror_mode": {
    "name": "ipython",
    "version": 3
   },
   "file_extension": ".py",
   "mimetype": "text/x-python",
   "name": "python",
   "nbconvert_exporter": "python",
   "pygments_lexer": "ipython3",
   "version": "3.10.10"
  }
 },
 "nbformat": 4,
 "nbformat_minor": 5
}
