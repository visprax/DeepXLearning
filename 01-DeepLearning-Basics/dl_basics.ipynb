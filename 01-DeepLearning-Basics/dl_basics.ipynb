{
 "cells": [
  {
   "cell_type": "markdown",
   "id": "b913019a-7c19-4aea-b286-990555fc0535",
   "metadata": {},
   "source": [
    "### Supervised and Unsupervised Learning\n",
    "\n",
    "*Supervised Learning* is an approach in machine learning where we have a *labeled* dataset, meaning that each data point consists of certain *features* and a corresponding label. The goal of supervised learning algorthims is to use this dataset to deduce a function that maps these input feature vectors to output labels. In supervised learning, unlike unsupervised learning, we have a *ground truth*, we know "
   ]
  },
  {
   "cell_type": "code",
   "execution_count": null,
   "id": "542fbfdc-71d7-4cd1-9eda-a8bb320e99bf",
   "metadata": {},
   "outputs": [],
   "source": []
  }
 ],
 "metadata": {
  "kernelspec": {
   "display_name": "Python 3 (ipykernel)",
   "language": "python",
   "name": "python3"
  },
  "language_info": {
   "codemirror_mode": {
    "name": "ipython",
    "version": 3
   },
   "file_extension": ".py",
   "mimetype": "text/x-python",
   "name": "python",
   "nbconvert_exporter": "python",
   "pygments_lexer": "ipython3",
   "version": "3.10.5"
  }
 },
 "nbformat": 4,
 "nbformat_minor": 5
}
